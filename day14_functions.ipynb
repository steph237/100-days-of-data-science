{
  "nbformat": 4,
  "nbformat_minor": 0,
  "metadata": {
    "colab": {
      "name": "day14-functions ",
      "provenance": [],
      "authorship_tag": "ABX9TyNghDmjeIzJl5zziur82flu",
      "include_colab_link": true
    },
    "kernelspec": {
      "name": "python3",
      "display_name": "Python 3"
    },
    "language_info": {
      "name": "python"
    }
  },
  "cells": [
    {
      "cell_type": "markdown",
      "metadata": {
        "id": "view-in-github",
        "colab_type": "text"
      },
      "source": [
        "<a href=\"https://colab.research.google.com/github/steph237/100-days-of-data-science/blob/main/day14_functions.ipynb\" target=\"_parent\"><img src=\"https://colab.research.google.com/assets/colab-badge.svg\" alt=\"Open In Colab\"/></a>"
      ]
    },
    {
      "cell_type": "code",
      "metadata": {
        "colab": {
          "base_uri": "https://localhost:8080/"
        },
        "id": "12kDxTReQjtm",
        "outputId": "485e68dd-54a4-44db-a4ff-5808511a6c53"
      },
      "source": [
        "def f():\n",
        "    s = '-- Inside f()'\n",
        "    print(s)\n",
        "\n",
        "print('Before calling f()')\n",
        "f()\n",
        "print('After calling f()')"
      ],
      "execution_count": 6,
      "outputs": [
        {
          "output_type": "stream",
          "name": "stdout",
          "text": [
            "Before calling f()\n",
            "-- Inside f()\n",
            "After calling f()\n"
          ]
        }
      ]
    },
    {
      "cell_type": "code",
      "metadata": {
        "colab": {
          "base_uri": "https://localhost:8080/"
        },
        "id": "LNsIj4GsRRNZ",
        "outputId": "a57a9164-eb8c-427d-f162-8dfc5a169c9d"
      },
      "source": [
        "def f(adj, name, age):\n",
        "  print(f'{adj} {name} is {age:.2f}')\n",
        "\n",
        "f('pretty', 'steph', 22)"
      ],
      "execution_count": 7,
      "outputs": [
        {
          "output_type": "stream",
          "name": "stdout",
          "text": [
            "pretty steph is 22.00\n"
          ]
        }
      ]
    },
    {
      "cell_type": "code",
      "metadata": {
        "colab": {
          "base_uri": "https://localhost:8080/"
        },
        "id": "cPXuIAkkFHMx",
        "outputId": "44231d3c-1db3-4532-de98-324f923f8419"
      },
      "source": [
        "def f(x):\n",
        "...     if x < 0:\n",
        "# ...         return\n",
        "            print(x)\n",
        "...     if x > 100:\n",
        "...         return\n",
        "...     print(x)\n",
        "...\n",
        "\n",
        "f(-3)\n",
        "f(105)\n",
        "f(64)\n",
        "\n",
        "\n",
        "def g():\n",
        "    return 'prettu girl'\n",
        "\n",
        "\n",
        "s = g()\n",
        "print(s)\n"
      ],
      "execution_count": 22,
      "outputs": [
        {
          "output_type": "stream",
          "name": "stdout",
          "text": [
            "-3\n",
            "-3\n",
            "64\n",
            "prettu girl\n"
          ]
        }
      ]
    },
    {
      "cell_type": "code",
      "metadata": {
        "colab": {
          "base_uri": "https://localhost:8080/"
        },
        "id": "qKK-a1RPIwFs",
        "outputId": "7a3f4fb8-4087-4f34-9cf9-aa0d0889e380"
      },
      "source": [
        "def s():\n",
        "  return ['steph', 'gets', 'sick', 'on', 'a','regular']\n",
        "\n",
        "\n",
        "print(s())\n",
        "\n",
        "print(s()[2])\n",
        "\n",
        "print(s()[::-1])\n",
        "print(s()[2:6])\n"
      ],
      "execution_count": 28,
      "outputs": [
        {
          "output_type": "stream",
          "name": "stdout",
          "text": [
            "['steph', 'gets', 'sick', 'on', 'a', 'regular']\n",
            "sick\n",
            "['regular', 'a', 'on', 'sick', 'gets', 'steph']\n",
            "['sick', 'on', 'a', 'regular']\n"
          ]
        }
      ]
    },
    {
      "cell_type": "code",
      "metadata": {
        "colab": {
          "base_uri": "https://localhost:8080/"
        },
        "id": "NAYz73ZDJrlS",
        "outputId": "fac67aa9-bc3e-4ddd-cab7-4328dedcf351"
      },
      "source": [
        "def f():\n",
        " return {'foo', 'bar', 'baz', 'qux'}\n",
        "\n",
        "\n",
        "print(type(f()))\n",
        "\n",
        "t = f()\n",
        "print(t)\n",
        "\n",
        "def k():\n",
        "  return\n",
        "\n",
        "\n",
        "print(k())\n"
      ],
      "execution_count": 37,
      "outputs": [
        {
          "output_type": "stream",
          "name": "stdout",
          "text": [
            "<class 'set'>\n",
            "{'qux', 'baz', 'bar', 'foo'}\n",
            "None\n"
          ]
        }
      ]
    },
    {
      "cell_type": "code",
      "metadata": {
        "colab": {
          "base_uri": "https://localhost:8080/"
        },
        "id": "8-qmz3fiLJnw",
        "outputId": "4fcd751c-86e0-4cd8-96fc-94184b0225b1"
      },
      "source": [
        "def f():\n",
        "  return 'hello'\n",
        "\n",
        "def g():\n",
        "  print('hi')\n",
        "\n",
        "\n",
        "if f() and g():\n",
        "    print('yes')\n",
        "else:\n",
        "   print('no')\n",
        "\n",
        "def multiple(x):\n",
        "   return x * 8\n",
        " \n",
        "x = 5\n",
        "x=multiple(x)\n",
        "print(x)"
      ],
      "execution_count": 52,
      "outputs": [
        {
          "output_type": "stream",
          "name": "stdout",
          "text": [
            "hi\n",
            "no\n",
            "40\n"
          ]
        }
      ]
    },
    {
      "cell_type": "code",
      "metadata": {
        "id": "S5hDanXMf78t",
        "outputId": "3155149a-da58-492d-85a5-ca717d9f1976",
        "colab": {
          "base_uri": "https://localhost:8080/"
        }
      },
      "source": [
        "def double_list(x):\n",
        "  i = 0\n",
        "  while i < len(x):\n",
        "        x[i] *= 2\n",
        "        i += 1\n",
        "\n",
        "a = [1, 2, 3, 4, 5]\n",
        "double_list(a)\n",
        "a"
      ],
      "execution_count": 54,
      "outputs": [
        {
          "output_type": "execute_result",
          "data": {
            "text/plain": [
              "[2, 4, 6, 8, 10]"
            ]
          },
          "metadata": {},
          "execution_count": 54
        }
      ]
    },
    {
      "cell_type": "code",
      "metadata": {
        "id": "FHyk7C7ChJOX",
        "outputId": "257f4031-787b-4610-cd22-aee6c81b4440",
        "colab": {
          "base_uri": "https://localhost:8080/"
        }
      },
      "source": [
        "def double_list(x):\n",
        "   r = []\n",
        "   for i in x:\n",
        "      r.append(i * 2)\n",
        "   return r\n",
        "\n",
        "\n",
        "a = [1, 2, 3, 4, 5]\n",
        "a = double_list(a)\n",
        "a\n",
        "\n",
        "def avg(a, b, c):\n",
        "  return (a + b + c) / 3\n",
        "\n",
        "avg(4,5,9)"
      ],
      "execution_count": 63,
      "outputs": [
        {
          "output_type": "execute_result",
          "data": {
            "text/plain": [
              "6.0"
            ]
          },
          "metadata": {},
          "execution_count": 63
        }
      ]
    },
    {
      "cell_type": "code",
      "metadata": {
        "id": "VrNJALKxjFiT",
        "outputId": "8ffbeae1-fc76-4eb5-f905-3fd324ceced6",
        "colab": {
          "base_uri": "https://localhost:8080/"
        }
      },
      "source": [
        "def avg(a):\n",
        "  total = 0\n",
        "  for v in a:\n",
        "     total += v\n",
        "  return total / len(a)\n",
        "\n",
        "a= [1,2,4,5]\n",
        "b=[3,5,68,9]\n",
        "print(avg(a))\n",
        " \n",
        "print(avg(b))"
      ],
      "execution_count": 64,
      "outputs": [
        {
          "output_type": "stream",
          "name": "stdout",
          "text": [
            "3.0\n",
            "21.25\n"
          ]
        }
      ]
    },
    {
      "cell_type": "code",
      "metadata": {
        "id": "ViLkfHXykwRY",
        "outputId": "74856088-077f-4d16-bab4-e3a993a96e75",
        "colab": {
          "base_uri": "https://localhost:8080/"
        }
      },
      "source": [
        "def steph(a: int, b: str, c: float):\n",
        "...     import inspect\n",
        "...     args = inspect.getfullargspec(f).args\n",
        "...     annotations = inspect.getfullargspec(f).annotations\n",
        "...     for x in args:\n",
        "...         print(x, '->',\n",
        "...               'arg is', type(locals()[x]), ',',\n",
        "...               'annotation is', annotations[x],\n",
        "...               '/', (type(locals()[x])) is annotations[x])\n",
        "...\n",
        "\n",
        ">>> steph(1, [7,8,0], {38.90,'jut',87})"
      ],
      "execution_count": 68,
      "outputs": [
        {
          "output_type": "stream",
          "name": "stdout",
          "text": [
            "a -> arg is <class 'int'> , annotation is <class 'int'> / True\n",
            "b -> arg is <class 'list'> , annotation is <class 'str'> / False\n",
            "c -> arg is <class 'set'> , annotation is <class 'float'> / False\n"
          ]
        }
      ]
    }
  ]
}