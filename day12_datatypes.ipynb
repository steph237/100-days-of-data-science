{
  "nbformat": 4,
  "nbformat_minor": 0,
  "metadata": {
    "colab": {
      "name": "day12-datatypes.ipynb",
      "provenance": [],
      "authorship_tag": "ABX9TyNJJCDoRzTYxcWtgGFpigW+",
      "include_colab_link": true
    },
    "kernelspec": {
      "name": "python3",
      "display_name": "Python 3"
    },
    "language_info": {
      "name": "python"
    }
  },
  "cells": [
    {
      "cell_type": "markdown",
      "metadata": {
        "id": "view-in-github",
        "colab_type": "text"
      },
      "source": [
        "<a href=\"https://colab.research.google.com/github/steph237/100-days-of-data-science/blob/main/day12_datatypes.ipynb\" target=\"_parent\"><img src=\"https://colab.research.google.com/assets/colab-badge.svg\" alt=\"Open In Colab\"/></a>"
      ]
    },
    {
      "cell_type": "code",
      "metadata": {
        "colab": {
          "base_uri": "https://localhost:8080/"
        },
        "id": "yajsKZ0hEvM2",
        "outputId": "6c0bced1-7e02-4b9a-9060-19a09cc33301"
      },
      "source": [
        "print(\"steph \\nmboyi\")"
      ],
      "execution_count": 4,
      "outputs": [
        {
          "output_type": "stream",
          "name": "stdout",
          "text": [
            "steph \n",
            "mboyi\n"
          ]
        }
      ]
    },
    {
      "cell_type": "code",
      "metadata": {
        "colab": {
          "base_uri": "https://localhost:8080/"
        },
        "id": "wqJ8Ak83GDSL",
        "outputId": "05558f9a-514a-4baa-db0e-20d13280bd1a"
      },
      "source": [
        "type(True)"
      ],
      "execution_count": 5,
      "outputs": [
        {
          "output_type": "execute_result",
          "data": {
            "text/plain": [
              "bool"
            ]
          },
          "metadata": {},
          "execution_count": 5
        }
      ]
    },
    {
      "cell_type": "code",
      "metadata": {
        "colab": {
          "base_uri": "https://localhost:8080/"
        },
        "id": "BhkFnbKTGHuh",
        "outputId": "b20d9ce0-8b1a-4724-a09d-0fb9cb7962d8"
      },
      "source": [
        "x = 89\n",
        "y= 'great'\n",
        "z= ('green','kin','oil')\n",
        "print(type(z), type(x),type(y))\n",
        "print()"
      ],
      "execution_count": 9,
      "outputs": [
        {
          "output_type": "stream",
          "name": "stdout",
          "text": [
            "<class 'tuple'> <class 'int'> <class 'str'>\n",
            "\n"
          ]
        }
      ]
    }
  ]
}