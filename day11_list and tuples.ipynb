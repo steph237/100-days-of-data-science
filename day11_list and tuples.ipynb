{
  "nbformat": 4,
  "nbformat_minor": 0,
  "metadata": {
    "colab": {
      "name": "day11-list",
      "provenance": [],
      "authorship_tag": "ABX9TyMaJtcaQ4oyd1rNs3RFzODV",
      "include_colab_link": true
    },
    "kernelspec": {
      "name": "python3",
      "display_name": "Python 3"
    },
    "language_info": {
      "name": "python"
    }
  },
  "cells": [
    {
      "cell_type": "markdown",
      "metadata": {
        "id": "view-in-github",
        "colab_type": "text"
      },
      "source": [
        "<a href=\"https://colab.research.google.com/github/steph237/100-days-of-data-science/blob/main/day11_list%20and%20tuples.ipynb\" target=\"_parent\"><img src=\"https://colab.research.google.com/assets/colab-badge.svg\" alt=\"Open In Colab\"/></a>"
      ]
    },
    {
      "cell_type": "code",
      "metadata": {
        "colab": {
          "base_uri": "https://localhost:8080/"
        },
        "id": "hgkbi9niMyvE",
        "outputId": "b135d47d-1316-4d93-a737-ff88cadce3e4"
      },
      "source": [
        "steph=['free','yet','gel','hut','set']\n",
        "steph\n",
        "steph[0]\n",
        "steph[-4]\n",
        "steph[2:5]\n",
        "# print(steph[:4], steph[0:4])\n",
        "print(steph[2:], steph[1:len(steph)])\n",
        "print(steph[1:4] + steph[3:5])\n",
        "print(steph[::-1])\n",
        "print(steph*2)\n",
        "print(len(steph))\n",
        "print(min(steph))\n",
        "# print(max(steph))"
      ],
      "execution_count": null,
      "outputs": [
        {
          "output_type": "stream",
          "name": "stdout",
          "text": [
            "['gel', 'hut', 'set'] ['yet', 'gel', 'hut', 'set']\n",
            "['yet', 'gel', 'hut', 'hut', 'set']\n",
            "['set', 'hut', 'gel', 'yet', 'free']\n",
            "['free', 'yet', 'gel', 'hut', 'set', 'free', 'yet', 'gel', 'hut', 'set']\n",
            "5\n",
            "free\n"
          ]
        }
      ]
    },
    {
      "cell_type": "code",
      "metadata": {
        "colab": {
          "base_uri": "https://localhost:8080/"
        },
        "id": "cU4agck-9kcD",
        "outputId": "300b024b-3d48-4f6b-c5e2-8d746cf3904d"
      },
      "source": [
        " x = ['a', ['bb', ['ccc', 'ddd'], 'ee', 'ff'], 'g', ['hh', 'ii'], 'j']\n",
        " print(x[3][0])\n",
        " 'ddd' in x[1][2]\n"
      ],
      "execution_count": 8,
      "outputs": [
        {
          "output_type": "stream",
          "name": "stdout",
          "text": [
            "hh\n"
          ]
        },
        {
          "output_type": "execute_result",
          "data": {
            "text/plain": [
              "False"
            ]
          },
          "metadata": {},
          "execution_count": 8
        }
      ]
    },
    {
      "cell_type": "code",
      "metadata": {
        "colab": {
          "base_uri": "https://localhost:8080/"
        },
        "id": "x2Pc3bAi_e6t",
        "outputId": "9e67083d-1de2-467d-c64a-1bc3ed6d8053"
      },
      "source": [
        "steph=['gre','dat', 'fes','jur','het']\n",
        "steph[2:3]=['boy']\n",
        "print(steph)\n",
        "steph[2:2]=['nut']\n",
        "print(steph)\n",
        "del steph[2:4]\n",
        "steph=[20,9.8] + steph\n",
        "print(steph)\n",
        "steph.append(0)\n",
        "steph.extend([1,2,3])\n",
        "steph.insert(3, 'the')\n",
        "# steph.remove('dat')\n",
        "steph.pop(-1)\n",
        "print(steph)"
      ],
      "execution_count": 21,
      "outputs": [
        {
          "output_type": "stream",
          "name": "stdout",
          "text": [
            "['gre', 'dat', 'boy', 'jur', 'het']\n",
            "['gre', 'dat', 'nut', 'boy', 'jur', 'het']\n",
            "[20, 9.8, 'gre', 'dat', 'jur', 'het']\n",
            "[20, 9.8, 'gre', 'the', 'dat', 'jur', 'het', 0, 1, 2]\n"
          ]
        }
      ]
    },
    {
      "cell_type": "code",
      "metadata": {
        "colab": {
          "base_uri": "https://localhost:8080/"
        },
        "id": "MtLqeFBnDerR",
        "outputId": "ee9523cd-5e7b-44a9-8f4b-05a347d6a915"
      },
      "source": [
        "mboyi = ('hen','tre','kill','bill')\n",
        "mboyi[::-1]\n",
        "print(mboyi[::-1])"
      ],
      "execution_count": 25,
      "outputs": [
        {
          "output_type": "stream",
          "name": "stdout",
          "text": [
            "('bill', 'kill', 'tre', 'hen')\n"
          ]
        }
      ]
    }
  ]
}