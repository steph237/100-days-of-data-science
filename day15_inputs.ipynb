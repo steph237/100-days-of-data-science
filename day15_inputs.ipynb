{
  "nbformat": 4,
  "nbformat_minor": 0,
  "metadata": {
    "colab": {
      "name": "day15-inputs",
      "provenance": [],
      "authorship_tag": "ABX9TyM62GrXqb8AJ73uGbr8qGsI",
      "include_colab_link": true
    },
    "kernelspec": {
      "display_name": "Python 3",
      "name": "python3"
    },
    "language_info": {
      "name": "python"
    }
  },
  "cells": [
    {
      "cell_type": "markdown",
      "metadata": {
        "id": "view-in-github",
        "colab_type": "text"
      },
      "source": [
        "<a href=\"https://colab.research.google.com/github/steph237/100-days-of-data-science/blob/main/day15_inputs.ipynb\" target=\"_parent\"><img src=\"https://colab.research.google.com/assets/colab-badge.svg\" alt=\"Open In Colab\"/></a>"
      ]
    },
    {
      "cell_type": "code",
      "metadata": {
        "id": "mAw_PlzJoVII",
        "colab": {
          "base_uri": "https://localhost:8080/"
        },
        "outputId": "e3b614b3-729b-4450-e377-acb6eb88aef3"
      },
      "source": [
        "name = input('What is your name? ')\n",
        "age = int(input('your age: '))\n",
        "weight = float(input('what is ypu weight: '))\n",
        "print(name)\n",
        "print(age)\n",
        "print(weight)"
      ],
      "execution_count": 5,
      "outputs": [
        {
          "output_type": "stream",
          "name": "stdout",
          "text": [
            "What is your name? fggg\n",
            "your age: 23\n",
            "what is ypu weight: 45\n",
            "fggg\n",
            "23\n",
            "45.0\n"
          ]
        }
      ]
    },
    {
      "cell_type": "code",
      "metadata": {
        "id": "3GrqkSGVqR4v",
        "colab": {
          "base_uri": "https://localhost:8080/"
        },
        "outputId": "a391c88a-c5ed-4da5-c5ef-4a56450a19c4"
      },
      "source": [
        "n = int(input('Enter a number: '))\n",
        "\n",
        "print(n + 100)\n"
      ],
      "execution_count": 6,
      "outputs": [
        {
          "output_type": "stream",
          "name": "stdout",
          "text": [
            "Enter a number: 32\n",
            "132\n"
          ]
        }
      ]
    },
    {
      "cell_type": "code",
      "metadata": {
        "id": "hfjCxgTRu6dM",
        "colab": {
          "base_uri": "https://localhost:8080/"
        },
        "outputId": "a864028d-1179-4aca-bbba-d3025637c520"
      },
      "source": [
        "fname = 'Steph'\n",
        "lname = 'Mboyi'\n",
        "\n",
        "print('Name:', fname, lname)\n"
      ],
      "execution_count": 3,
      "outputs": [
        {
          "output_type": "stream",
          "name": "stdout",
          "text": [
            "Name: Steph Mboyi\n"
          ]
        }
      ]
    },
    {
      "cell_type": "code",
      "metadata": {
        "colab": {
          "background_save": true
        },
        "id": "nmchSeaNv7GB",
        "outputId": "945a70bc-f090-43fe-e625-7dff5b51dcbb"
      },
      "source": [
        "for n in range(10):\n",
        "   print(n)"
      ],
      "execution_count": null,
      "outputs": [
        {
          "name": "stdout",
          "output_type": "stream",
          "text": [
            "0\n",
            "1\n",
            "2\n",
            "3\n",
            "4\n",
            "5\n",
            "6\n",
            "7\n",
            "8\n",
            "9\n"
          ]
        }
      ]
    },
    {
      "cell_type": "code",
      "metadata": {
        "colab": {
          "base_uri": "https://localhost:8080/",
          "height": 35
        },
        "id": "dJRk4r_5zrm2",
        "outputId": "2ba0f185-02c8-4f23-d85d-e5712899bb7d"
      },
      "source": [
        ">>> x = float('NaN')\n",
        ">>> '%f, %e, %F, %E' % (x, x, x, x)\n",
        "\n",
        ">>> y = float('Inf')\n",
        ">>> '%f, %e, %F, %E' % (y, y, y, y)\n"
      ],
      "execution_count": 2,
      "outputs": [
        {
          "output_type": "execute_result",
          "data": {
            "application/vnd.google.colaboratory.intrinsic+json": {
              "type": "string"
            },
            "text/plain": [
              "'inf, inf, INF, INF'"
            ]
          },
          "metadata": {},
          "execution_count": 2
        }
      ]
    },
    {
      "cell_type": "code",
      "metadata": {
        "id": "lpi-5wdK0FlC"
      },
      "source": [
        ""
      ],
      "execution_count": null,
      "outputs": []
    }
  ]
}