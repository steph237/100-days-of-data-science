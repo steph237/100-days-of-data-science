{
  "nbformat": 4,
  "nbformat_minor": 0,
  "metadata": {
    "colab": {
      "name": "day17-regexes",
      "provenance": [],
      "authorship_tag": "ABX9TyOhcEicS2vq6Qtroj4xW7W+",
      "include_colab_link": true
    },
    "kernelspec": {
      "name": "python3",
      "display_name": "Python 3"
    },
    "language_info": {
      "name": "python"
    }
  },
  "cells": [
    {
      "cell_type": "markdown",
      "metadata": {
        "id": "view-in-github",
        "colab_type": "text"
      },
      "source": [
        "<a href=\"https://colab.research.google.com/github/steph237/100-days-of-data-science/blob/main/day17_regexes.ipynb\" target=\"_parent\"><img src=\"https://colab.research.google.com/assets/colab-badge.svg\" alt=\"Open In Colab\"/></a>"
      ]
    },
    {
      "cell_type": "code",
      "metadata": {
        "colab": {
          "base_uri": "https://localhost:8080/"
        },
        "id": "EL8tAxSOM0M2",
        "outputId": "0b75d478-90bb-447f-b885-3a69b75e8b0b"
      },
      "source": [
        "s = 'foo123bar'\n",
        "print(s.find('123'))\n",
        "\n",
        "print(s.index('123'))\n"
      ],
      "execution_count": 1,
      "outputs": [
        {
          "output_type": "stream",
          "name": "stdout",
          "text": [
            "3\n",
            "3\n"
          ]
        }
      ]
    },
    {
      "cell_type": "code",
      "metadata": {
        "colab": {
          "base_uri": "https://localhost:8080/"
        },
        "id": "K0ko0QBfOF6Y",
        "outputId": "47b2e5fd-d7b6-4ca1-fab4-dacb1b951402"
      },
      "source": [
        "import re\n",
        "s = 'steph45f7mboy5_5i'\n",
        "if re.search('mbo', s):\n",
        "  print('found it,stop looking ')\n",
        "\n",
        "if re.search('[0-9][0-9]f', s):\n",
        "  print('yep its here')\n",
        "\n",
        "if re.search('\\w', s):\n",
        "  print('underscore exist')\n",
        "\n",
        "print(re.search('\\w', s))\n",
        "\n",
        "print(re.search('^ste', s))\n",
        "\n",
        "print(re.search('45f7', s))\n",
        "\n",
        "print(re.search('mb', s))\n",
        "\n",
        "print(re.search('h57', s))\n",
        "\n",
        "print(re.search('(st)+', s))"
      ],
      "execution_count": 21,
      "outputs": [
        {
          "output_type": "stream",
          "name": "stdout",
          "text": [
            "found it,stop looking \n",
            "yep its here\n",
            "underscore exist\n",
            "<re.Match object; span=(0, 1), match='s'>\n",
            "<re.Match object; span=(0, 3), match='ste'>\n",
            "<re.Match object; span=(5, 9), match='45f7'>\n",
            "<re.Match object; span=(9, 11), match='mb'>\n",
            "None\n",
            "<re.Match object; span=(0, 2), match='st'>\n"
          ]
        }
      ]
    }
  ]
}