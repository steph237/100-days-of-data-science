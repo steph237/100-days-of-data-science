{
  "nbformat": 4,
  "nbformat_minor": 0,
  "metadata": {
    "colab": {
      "name": "day9-conditional statement",
      "provenance": [],
      "collapsed_sections": [],
      "authorship_tag": "ABX9TyPdmb0EN2K65PkPYuL0Kfz5",
      "include_colab_link": true
    },
    "kernelspec": {
      "name": "python3",
      "display_name": "Python 3"
    },
    "language_info": {
      "name": "python"
    }
  },
  "cells": [
    {
      "cell_type": "markdown",
      "metadata": {
        "id": "view-in-github",
        "colab_type": "text"
      },
      "source": [
        "<a href=\"https://colab.research.google.com/github/steph237/100-days-of-data-science/blob/main/day9_conditional_statement.ipynb\" target=\"_parent\"><img src=\"https://colab.research.google.com/assets/colab-badge.svg\" alt=\"Open In Colab\"/></a>"
      ]
    },
    {
      "cell_type": "code",
      "metadata": {
        "colab": {
          "base_uri": "https://localhost:8080/"
        },
        "id": "w7lKgXdTOwbW",
        "outputId": "855e0525-5f9a-4ce9-c2c0-a81fa3e78f70"
      },
      "source": [
        "if 'bar' in ['girl', 'boy', 'dog']:\n",
        "    print(' true')\n",
        "    print('word is present')\n",
        "else: \n",
        "\n",
        "    print('absent')\n",
        "print('try again ')"
      ],
      "execution_count": null,
      "outputs": [
        {
          "output_type": "stream",
          "name": "stdout",
          "text": [
            "absent\n",
            "try again \n"
          ]
        }
      ]
    },
    {
      "cell_type": "code",
      "metadata": {
        "colab": {
          "base_uri": "https://localhost:8080/"
        },
        "id": "4Bw4ZK54TDTr",
        "outputId": "43fc1eb1-4b8f-40eb-be6a-d7dd0fb8aa74"
      },
      "source": [
        "name = 'nkwatoh'\n",
        "if name == 'mboyi':\n",
        "  print('hello mboyi')\n",
        "elif name == 'nkwatoh':\n",
        "  print('hello nkwatoh')\n",
        "else:\n",
        "  print('hello steph')"
      ],
      "execution_count": null,
      "outputs": [
        {
          "output_type": "stream",
          "name": "stdout",
          "text": [
            "hello nkwatoh\n"
          ]
        }
      ]
    },
    {
      "cell_type": "code",
      "metadata": {
        "colab": {
          "base_uri": "https://localhost:8080/"
        },
        "id": "UUpaA58jTrr8",
        "outputId": "5459b83c-4a6c-4c13-847a-3f44e1771bdf"
      },
      "source": [
        "names= {\n",
        "    'steph':'hello steph',\n",
        "    'dear': 'hello dear',\n",
        "    'bri':'hello bri'\n",
        "}\n",
        "print(names.get('steph','why are u here '))\n",
        "print(names.get('free', 'why are you here'))\n",
        "if 'step' in names:\n",
        "  print('yayyyy')\n",
        "else:\n",
        "  print('no')\n",
        "if 'steph' in names: print('yep');print('prsent');print('for sure')\n",
        "food= True\n",
        "print(\"not hungry\", 'eat' if not food else 'stop')\n",
        "\n",
        "10.5 if True else 10000/0\n",
        "\n",
        "if True :\n",
        "  pass\n",
        "\n",
        "print('foo')\n"
      ],
      "execution_count": null,
      "outputs": [
        {
          "output_type": "stream",
          "name": "stdout",
          "text": [
            "hello steph\n",
            "why are you here\n",
            "no\n",
            "yep\n",
            "prsent\n",
            "for sure\n",
            "not hungry stop\n",
            "foo\n"
          ]
        }
      ]
    },
    {
      "cell_type": "code",
      "metadata": {
        "colab": {
          "base_uri": "https://localhost:8080/"
        },
        "id": "5ESYxbkTolf9",
        "outputId": "e3c22d36-f4a8-4c85-9e96-0885a16b160d"
      },
      "source": [
        "steph=['guy','hut','gre','fre']\n",
        "# while steph:\n",
        " \n",
        "#   print(steph.pop(0))\n",
        "\n",
        "# while False:\n",
        "#   print('foo')\n",
        "# while True:\n",
        "#  if not steph:\n",
        "#    break\n",
        "#  print(steph.pop(-1))\n",
        "\n",
        "\n",
        "# x=8\n",
        "# while True:\n",
        "#   if x>0:\n",
        "#     break\n",
        "# print(x)\n",
        "\n",
        "while len(steph):\n",
        "  print(steph.pop(0))\n",
        "  mboyi = ['fowl', 'green']\n",
        "  while len(mboyi):\n",
        "    print('>', mboyi.pop(0))"
      ],
      "execution_count": null,
      "outputs": [
        {
          "output_type": "stream",
          "name": "stdout",
          "text": [
            "guy\n",
            "> fowl\n",
            "> green\n",
            "hut\n",
            "> fowl\n",
            "> green\n",
            "gre\n",
            "> fowl\n",
            "> green\n",
            "fre\n",
            "> fowl\n",
            "> green\n"
          ]
        }
      ]
    }
  ]
}