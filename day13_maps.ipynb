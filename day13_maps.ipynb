{
  "nbformat": 4,
  "nbformat_minor": 0,
  "metadata": {
    "colab": {
      "name": "day13-maps.ipynb",
      "provenance": [],
      "authorship_tag": "ABX9TyOpijGWl2UkKgauT4VOfNcR",
      "include_colab_link": true
    },
    "kernelspec": {
      "name": "python3",
      "display_name": "Python 3"
    },
    "language_info": {
      "name": "python"
    }
  },
  "cells": [
    {
      "cell_type": "markdown",
      "metadata": {
        "id": "view-in-github",
        "colab_type": "text"
      },
      "source": [
        "<a href=\"https://colab.research.google.com/github/steph237/100-days-of-data-science/blob/main/day13_maps.ipynb\" target=\"_parent\"><img src=\"https://colab.research.google.com/assets/colab-badge.svg\" alt=\"Open In Colab\"/></a>"
      ]
    },
    {
      "cell_type": "code",
      "metadata": {
        "colab": {
          "base_uri": "https://localhost:8080/"
        },
        "id": "H2EnzMXRz39m",
        "outputId": "a900ead6-ebd9-425e-c9c8-da9061b4d713"
      },
      "source": [
        "numbers = [1,2,3,4,5]\n",
        "squared = []\n",
        "\n",
        "for num in numbers: \n",
        "  squared.append(num ** 2)\n",
        "\n",
        "print(squared)"
      ],
      "execution_count": 3,
      "outputs": [
        {
          "output_type": "stream",
          "name": "stdout",
          "text": [
            "[1, 4, 9, 16, 25]\n"
          ]
        }
      ]
    },
    {
      "cell_type": "code",
      "metadata": {
        "colab": {
          "base_uri": "https://localhost:8080/"
        },
        "id": "17StRDU-34x2",
        "outputId": "a2b9ed5c-02b6-4fa7-8e03-3d12486f5391"
      },
      "source": [
        "def square(number):\n",
        "    return number ** 2\n",
        "\n",
        "\n",
        "numbers = [-1, -2, 3, 4, -5]\n",
        "abs_value = list(map(abs,numbers))\n",
        "print(abs_value)\n",
        "\n",
        "squared = map(square, numbers)\n",
        "\n",
        "print(list(squared))\n",
        "\n",
        "print(list(map(float,numbers)))\n",
        "word = [\"tyhnjk\", 'ghyto','iKAJK']\n",
        "print(list(map(len,word)))"
      ],
      "execution_count": 13,
      "outputs": [
        {
          "output_type": "stream",
          "name": "stdout",
          "text": [
            "[1, 2, 3, 4, 5]\n",
            "[1, 4, 9, 16, 25]\n",
            "[-1.0, -2.0, 3.0, 4.0, -5.0]\n",
            "[6, 5, 5]\n"
          ]
        }
      ]
    },
    {
      "cell_type": "code",
      "metadata": {
        "colab": {
          "base_uri": "https://localhost:8080/"
        },
        "id": "TRfQLBJh6QNW",
        "outputId": "632ecd42-c2da-4d1f-d3d7-b1a6f140841e"
      },
      "source": [
        "first_it = [1, 2, 3,4,5]\n",
        "second_it = [4, 5, 6, 7]\n",
        "\n",
        "print(list(map(pow, first_it, second_it)))\n"
      ],
      "execution_count": 15,
      "outputs": [
        {
          "output_type": "stream",
          "name": "stdout",
          "text": [
            "[1, 32, 729, 16384]\n"
          ]
        }
      ]
    },
    {
      "cell_type": "code",
      "metadata": {
        "colab": {
          "base_uri": "https://localhost:8080/",
          "height": 137
        },
        "id": "ywnPX87p6-IX",
        "outputId": "b7acbbd6-d283-45f0-e6ac-a0f3e48aaef7"
      },
      "source": [
        "import re\n",
        "strings = [\"girl\", \"gurus\", \"with\", \"hurter\"]\n",
        "print(list(map(str.capitalize, strings)))\n",
        "newStr = list(map(str.upper, strings))\n",
        "print(newStr)\n",
        "print(list(map(str.lower,newStr )))\n",
        "print(list(map(str.capitalize,newStr )))\n",
        "print(list(map(str.title,newStr )))\n",
        "strings1 = [\"girl,,\", \"gurus,,\", \"with.,\", \"hurter,.\"]\n",
        "print(list(map(lambda s: s.strip(\",\"),newStr )))\n",
        "def removal(word):\n",
        "  return re.sub('[!!?.:;,\"()-]', \"\", word)\n",
        "\n",
        "removal(\"...!hey steph...\")\n",
        "# print(removal())"
      ],
      "execution_count": 37,
      "outputs": [
        {
          "output_type": "stream",
          "name": "stdout",
          "text": [
            "['Girl', 'Gurus', 'With', 'Hurter']\n",
            "['GIRL', 'GURUS', 'WITH', 'HURTER']\n",
            "['girl', 'gurus', 'with', 'hurter']\n",
            "['Girl', 'Gurus', 'With', 'Hurter']\n",
            "['Girl', 'Gurus', 'With', 'Hurter']\n",
            "['GIRL', 'GURUS', 'WITH', 'HURTER']\n"
          ]
        },
        {
          "output_type": "execute_result",
          "data": {
            "application/vnd.google.colaboratory.intrinsic+json": {
              "type": "string"
            },
            "text/plain": [
              "'hey steph'"
            ]
          },
          "metadata": {},
          "execution_count": 37
        }
      ]
    },
    {
      "cell_type": "code",
      "metadata": {
        "colab": {
          "base_uri": "https://localhost:8080/"
        },
        "id": "L2PjlzTh_Qc4",
        "outputId": "c94aff12-7e65-4ae5-b169-602bae797942"
      },
      "source": [
        " text = \"\"\"Some people, when confronted with a problem, think\n",
        "... \"I know, I'll use regular expressions.\"\n",
        "... Now they have two problems. Jamie Zawinski\"\"\"\n",
        "\n",
        "words = text.split()\n",
        "print(list(words))\n",
        "print (list(map(removal, words)))"
      ],
      "execution_count": 36,
      "outputs": [
        {
          "output_type": "stream",
          "name": "stdout",
          "text": [
            "['Some', 'people,', 'when', 'confronted', 'with', 'a', 'problem,', 'think', '\"I', 'know,', \"I'll\", 'use', 'regular', 'expressions.\"', 'Now', 'they', 'have', 'two', 'problems.', 'Jamie', 'Zawinski']\n",
            "['Some', 'people', 'when', 'confronted', 'with', 'a', 'problem', 'think', 'I', 'know', \"I'll\", 'use', 'regular', 'expressions', 'Now', 'they', 'have', 'two', 'problems', 'Jamie', 'Zawinski']\n"
          ]
        }
      ]
    },
    {
      "cell_type": "code",
      "metadata": {
        "colab": {
          "base_uri": "https://localhost:8080/",
          "height": 35
        },
        "id": "HrDcs9JaAl4q",
        "outputId": "1e53deef-3825-4fa9-f0c7-7435fb644428"
      },
      "source": [
        "def rotate_chr(c):\n",
        "    rot_by = 4\n",
        "    c = c.lower()\n",
        "    alphabet = \"abcdefghijklmnopqrstuvwxyz\"\n",
        "  \n",
        "    if c not in alphabet:\n",
        "        return c\n",
        "    rotated_pos = ord(c) + rot_by\n",
        "    \n",
        "    if rotated_pos <= ord(alphabet[-1]):\n",
        "        return chr(rotated_pos)\n",
        "   \n",
        "    return chr(rotated_pos - len(alphabet))\n",
        "\"\".join(map(rotate_chr, \"there are only two options to live or to die \"))"
      ],
      "execution_count": 44,
      "outputs": [
        {
          "output_type": "execute_result",
          "data": {
            "application/vnd.google.colaboratory.intrinsic+json": {
              "type": "string"
            },
            "text/plain": [
              "'xlivi evi srpc xas stxmsrw xs pmzi sv xs hmi '"
            ]
          },
          "metadata": {},
          "execution_count": 44
        }
      ]
    },
    {
      "cell_type": "code",
      "metadata": {
        "colab": {
          "base_uri": "https://localhost:8080/"
        },
        "id": "yt5Nhr7PE_f_",
        "outputId": "81050a71-1881-4054-d7e8-03ad54892d6d"
      },
      "source": [
        "import math \n",
        "\n",
        "def positive(num):\n",
        "  return num >= 0\n",
        "\n",
        "\n",
        "def filtered_sqrt(numbers):\n",
        "  new_iter = map(math.sqrt, filter(positive, numbers))\n",
        "  return list(new_iter)\n",
        "\n",
        "sanitized_sqrt([25, 9, 181, -16, 0])"
      ],
      "execution_count": 48,
      "outputs": [
        {
          "output_type": "execute_result",
          "data": {
            "text/plain": [
              "[5.0, 3.0, 13.45362404707371, 0.0]"
            ]
          },
          "metadata": {},
          "execution_count": 48
        }
      ]
    },
    {
      "cell_type": "code",
      "metadata": {
        "colab": {
          "base_uri": "https://localhost:8080/"
        },
        "id": "m2NAgtKiGbAm",
        "outputId": "43bc668e-b4f4-4a25-8a4c-01891655361d"
      },
      "source": [
        "import functools\n",
        "import operator\n",
        "import os\n",
        "import os.path\n",
        "\n",
        "files = os.listdir(os.path.expanduser(\"/content\"))\n",
        "print(functools.reduce(operator.add, map(os.path.getsize, files)))\n",
        "print(sum(map(os.path.getsize, files)))\n"
      ],
      "execution_count": 65,
      "outputs": [
        {
          "output_type": "stream",
          "name": "stdout",
          "text": [
            "8192\n",
            "8192\n"
          ]
        }
      ]
    },
    {
      "cell_type": "code",
      "metadata": {
        "colab": {
          "base_uri": "https://localhost:8080/"
        },
        "id": "XBWsjAIXOlmb",
        "outputId": "55b0ae01-99b4-4805-ec53-9da889616eb5"
      },
      "source": [
        "working_dir = os.getcwd()  # Get the current working directory (cwd)\n",
        "files = os.listdir(working_dir)  # Get all the files in that directory\n",
        "print(\"Files in %r: %s\" % (working_dir, files))\n",
        "print(working_dir)"
      ],
      "execution_count": 63,
      "outputs": [
        {
          "output_type": "stream",
          "name": "stdout",
          "text": [
            "Files in '/content': ['.config', 'sample_data']\n",
            "/content\n"
          ]
        }
      ]
    },
    {
      "cell_type": "code",
      "metadata": {
        "colab": {
          "base_uri": "https://localhost:8080/"
        },
        "id": "vw7KgPYM_fhK",
        "outputId": "ea7afb67-677a-44a3-cba1-bf46d9c2b2bc"
      },
      "source": [
        "\n",
        "def square(number):\n",
        "  return number ** 2\n",
        "numbers = [1, 2, 3, 4, 5]\n",
        "# Using map()\n",
        "print( list(map(square, numbers)))\n",
        "# print(list(square))\n",
        "\n",
        "# Using a list comprehension\n",
        "print([square(x) for x in numbers])\n"
      ],
      "execution_count": 85,
      "outputs": [
        {
          "output_type": "stream",
          "name": "stdout",
          "text": [
            "[1, 4, 9, 16, 25]\n",
            "[1, 4, 9, 16, 25]\n"
          ]
        }
      ]
    }
  ]
}