{
  "nbformat": 4,
  "nbformat_minor": 0,
  "metadata": {
    "colab": {
      "name": "day10-conditional statement",
      "provenance": [],
      "collapsed_sections": [],
      "authorship_tag": "ABX9TyNfOVPWxAUtMWa0zylDmqFb",
      "include_colab_link": true
    },
    "kernelspec": {
      "name": "python3",
      "display_name": "Python 3"
    },
    "language_info": {
      "name": "python"
    }
  },
  "cells": [
    {
      "cell_type": "markdown",
      "metadata": {
        "id": "view-in-github",
        "colab_type": "text"
      },
      "source": [
        "<a href=\"https://colab.research.google.com/github/steph237/100-days-of-data-science/blob/main/day10_conditional_statement.ipynb\" target=\"_parent\"><img src=\"https://colab.research.google.com/assets/colab-badge.svg\" alt=\"Open In Colab\"/></a>"
      ]
    },
    {
      "cell_type": "code",
      "metadata": {
        "colab": {
          "base_uri": "https://localhost:8080/"
        },
        "id": "w7lKgXdTOwbW",
        "outputId": "855e0525-5f9a-4ce9-c2c0-a81fa3e78f70"
      },
      "source": [
        "if 'bar' in ['girl', 'boy', 'dog']:\n",
        "    print(' true')\n",
        "    print('word is present')\n",
        "else: \n",
        "\n",
        "    print('absent')\n",
        "print('try again ')"
      ],
      "execution_count": null,
      "outputs": [
        {
          "output_type": "stream",
          "name": "stdout",
          "text": [
            "absent\n",
            "try again \n"
          ]
        }
      ]
    },
    {
      "cell_type": "code",
      "metadata": {
        "colab": {
          "base_uri": "https://localhost:8080/"
        },
        "id": "4Bw4ZK54TDTr",
        "outputId": "43fc1eb1-4b8f-40eb-be6a-d7dd0fb8aa74"
      },
      "source": [
        "name = 'nkwatoh'\n",
        "if name == 'mboyi':\n",
        "  print('hello mboyi')\n",
        "elif name == 'nkwatoh':\n",
        "  print('hello nkwatoh')\n",
        "else:\n",
        "  print('hello steph')"
      ],
      "execution_count": null,
      "outputs": [
        {
          "output_type": "stream",
          "name": "stdout",
          "text": [
            "hello nkwatoh\n"
          ]
        }
      ]
    },
    {
      "cell_type": "code",
      "metadata": {
        "colab": {
          "base_uri": "https://localhost:8080/"
        },
        "id": "UUpaA58jTrr8",
        "outputId": "5459b83c-4a6c-4c13-847a-3f44e1771bdf"
      },
      "source": [
        "names= {\n",
        "    'steph':'hello steph',\n",
        "    'dear': 'hello dear',\n",
        "    'bri':'hello bri'\n",
        "}\n",
        "print(names.get('steph','why are u here '))\n",
        "print(names.get('free', 'why are you here'))\n",
        "if 'step' in names:\n",
        "  print('yayyyy')\n",
        "else:\n",
        "  print('no')\n",
        "if 'steph' in names: print('yep');print('prsent');print('for sure')\n",
        "food= True\n",
        "print(\"not hungry\", 'eat' if not food else 'stop')\n",
        "\n",
        "10.5 if True else 10000/0\n",
        "\n",
        "if True :\n",
        "  pass\n",
        "\n",
        "print('foo')\n"
      ],
      "execution_count": null,
      "outputs": [
        {
          "output_type": "stream",
          "name": "stdout",
          "text": [
            "hello steph\n",
            "why are you here\n",
            "no\n",
            "yep\n",
            "prsent\n",
            "for sure\n",
            "not hungry stop\n",
            "foo\n"
          ]
        }
      ]
    },
    {
      "cell_type": "code",
      "metadata": {
        "colab": {
          "base_uri": "https://localhost:8080/"
        },
        "id": "5ESYxbkTolf9",
        "outputId": "09fc549c-3390-40bd-d467-f67a24022651"
      },
      "source": [
        "steph=['guy','hut','gre','fre']\n",
        "# while steph:\n",
        " \n",
        "#   print(steph.pop(0))\n",
        "\n",
        "# while False:\n",
        "#   print('foo')\n",
        "# while True:\n",
        "#  if not steph:\n",
        "#    break\n",
        "#  print(steph.pop(-1))\n",
        "\n",
        "\n",
        "# x=8\n",
        "# while True:\n",
        "#   if x>0:\n",
        "#     break\n",
        "# print(x)\n",
        "\n",
        "while len(steph):\n",
        "  print(steph.pop(0))\n",
        "  mboyi = ['fowl', 'green']\n",
        "  while len(mboyi):\n",
        "    print('>', mboyi.pop(0))\n",
        "\n",
        "\n"
      ],
      "execution_count": 3,
      "outputs": [
        {
          "output_type": "stream",
          "name": "stdout",
          "text": [
            "guy\n",
            "> fowl\n",
            "> green\n",
            "hut\n",
            "> fowl\n",
            "> green\n",
            "gre\n",
            "> fowl\n",
            "> green\n",
            "fre\n",
            "> fowl\n",
            "> green\n"
          ]
        }
      ]
    },
    {
      "cell_type": "code",
      "metadata": {
        "colab": {
          "base_uri": "https://localhost:8080/"
        },
        "id": "V9StDfG9WB1L",
        "outputId": "1c9f4036-d347-4511-f8d6-a54f1564113a"
      },
      "source": [
        "steph= ['see', 'get', 'hut']\n",
        "for i in steph:\n",
        "  print(i)\n",
        "itr=iter(steph)\n",
        "itr\n",
        "next(itr)\n",
        "\n",
        "next(itr)\n",
        "list(itr)\n",
        "set(itr)\n",
        "d={'der':1, 'hut':3,'gub':4}\n",
        "for k in d:\n",
        "  print(k)\n",
        "\n",
        "\n",
        "i,j = (1,2)\n",
        "print(i,j)\n",
        "for i,j in [(1,2),(4,7),(5,9)]:\n",
        "  print(i,j)"
      ],
      "execution_count": 13,
      "outputs": [
        {
          "output_type": "stream",
          "name": "stdout",
          "text": [
            "see\n",
            "get\n",
            "hut\n",
            "der\n",
            "hut\n",
            "gub\n",
            "1 2\n",
            "1 2\n",
            "4 7\n",
            "5 9\n"
          ]
        }
      ]
    },
    {
      "cell_type": "code",
      "metadata": {
        "colab": {
          "base_uri": "https://localhost:8080/"
        },
        "id": "bBEusuP9aqzO",
        "outputId": "c4fa3f6b-0ecc-46f8-de6d-618406d27f30"
      },
      "source": [
        "for i in ['see', 'get', 'hut']:\n",
        "  if i=='get':\n",
        "  #  break\n",
        "   continue\n",
        "  print(i)\n",
        "else: \n",
        "  print('done')"
      ],
      "execution_count": 25,
      "outputs": [
        {
          "output_type": "stream",
          "name": "stdout",
          "text": [
            "see\n",
            "hut\n",
            "done\n"
          ]
        }
      ]
    },
    {
      "cell_type": "code",
      "metadata": {
        "id": "OKQc13sfbBmW"
      },
      "source": [
        ""
      ],
      "execution_count": null,
      "outputs": []
    }
  ]
}